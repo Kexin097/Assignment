{
 "cells": [
  {
   "cell_type": "markdown",
   "id": "62a20bed",
   "metadata": {},
   "source": [
    "# Create a recommendation engine with the recommended dataset"
   ]
  },
  {
   "cell_type": "code",
   "execution_count": 1,
   "id": "13f930a9",
   "metadata": {},
   "outputs": [],
   "source": [
    "import pandas as pd\n",
    "import io\n",
    "import requests\n",
    "import numpy as np\n",
    "from zipfile import ZipFile\n",
    "import tensorflow as tf\n",
    "from tensorflow import keras\n",
    "from tensorflow.keras import layers\n",
    "from pathlib import Path\n",
    "import matplotlib.pyplot as plt"
   ]
  },
  {
   "cell_type": "markdown",
   "id": "ca07ce69",
   "metadata": {},
   "source": [
    "Data source : https://www.kaggle.com/netflix-inc/netflix-prize-data\n",
    "Due to large dataset, only load first 100,000 rows from each data files"
   ]
  },
  {
   "cell_type": "code",
   "execution_count": 4,
   "id": "75c7d8e0",
   "metadata": {},
   "outputs": [],
   "source": [
    "def readFile(file_path, rows=100000):\n",
    "    data_dict = {'Cust_Id' : [], 'Movie_Id' : [], 'Rating' : [], 'Date' : []}\n",
    "    f = open(file_path, \"r\")\n",
    "    count = 0\n",
    "    for line in f:\n",
    "        count += 1\n",
    "        if count > rows:\n",
    "            break\n",
    "            \n",
    "        if ':' in line:\n",
    "            movidId = line[:-2] # remove the last character ':'\n",
    "            movieId = int(movidId)\n",
    "        else:\n",
    "            customerID, rating, date = line.split(',')\n",
    "            data_dict['Cust_Id'].append(customerID)\n",
    "            data_dict['Movie_Id'].append(movieId)\n",
    "            data_dict['Rating'].append(rating)\n",
    "            data_dict['Date'].append(date.rstrip(\"\\n\"))\n",
    "    f.close()\n",
    "            \n",
    "    return pd.DataFrame(data_dict)\n",
    "df1 = readFile('./data/combined_data_1.txt', rows=100000)\n",
    "df2 = readFile('./data/combined_data_2.txt', rows=100000)\n",
    "df3 = readFile('./data/combined_data_3.txt', rows=100000)\n",
    "df4 = readFile('./data/combined_data_4.txt', rows=100000)\n",
    "df1['Rating'] = df1['Rating'].astype(float)\n",
    "df2['Rating'] = df2['Rating'].astype(float)\n",
    "df3['Rating'] = df3['Rating'].astype(float)\n",
    "df4['Rating'] = df4['Rating'].astype(float)"
   ]
  },
  {
   "cell_type": "code",
   "execution_count": 5,
   "id": "5ea479a9",
   "metadata": {},
   "outputs": [
    {
     "data": {
      "text/html": [
       "<div>\n",
       "<style scoped>\n",
       "    .dataframe tbody tr th:only-of-type {\n",
       "        vertical-align: middle;\n",
       "    }\n",
       "\n",
       "    .dataframe tbody tr th {\n",
       "        vertical-align: top;\n",
       "    }\n",
       "\n",
       "    .dataframe thead th {\n",
       "        text-align: right;\n",
       "    }\n",
       "</style>\n",
       "<table border=\"1\" class=\"dataframe\">\n",
       "  <thead>\n",
       "    <tr style=\"text-align: right;\">\n",
       "      <th></th>\n",
       "      <th>Cust_Id</th>\n",
       "      <th>Movie_Id</th>\n",
       "      <th>Rating</th>\n",
       "      <th>Date</th>\n",
       "    </tr>\n",
       "  </thead>\n",
       "  <tbody>\n",
       "    <tr>\n",
       "      <th>0</th>\n",
       "      <td>1488844</td>\n",
       "      <td>1</td>\n",
       "      <td>3.0</td>\n",
       "      <td>2005-09-06</td>\n",
       "    </tr>\n",
       "    <tr>\n",
       "      <th>1</th>\n",
       "      <td>822109</td>\n",
       "      <td>1</td>\n",
       "      <td>5.0</td>\n",
       "      <td>2005-05-13</td>\n",
       "    </tr>\n",
       "    <tr>\n",
       "      <th>2</th>\n",
       "      <td>885013</td>\n",
       "      <td>1</td>\n",
       "      <td>4.0</td>\n",
       "      <td>2005-10-19</td>\n",
       "    </tr>\n",
       "    <tr>\n",
       "      <th>3</th>\n",
       "      <td>30878</td>\n",
       "      <td>1</td>\n",
       "      <td>4.0</td>\n",
       "      <td>2005-12-26</td>\n",
       "    </tr>\n",
       "    <tr>\n",
       "      <th>4</th>\n",
       "      <td>823519</td>\n",
       "      <td>1</td>\n",
       "      <td>3.0</td>\n",
       "      <td>2004-05-03</td>\n",
       "    </tr>\n",
       "    <tr>\n",
       "      <th>5</th>\n",
       "      <td>893988</td>\n",
       "      <td>1</td>\n",
       "      <td>3.0</td>\n",
       "      <td>2005-11-17</td>\n",
       "    </tr>\n",
       "    <tr>\n",
       "      <th>6</th>\n",
       "      <td>124105</td>\n",
       "      <td>1</td>\n",
       "      <td>4.0</td>\n",
       "      <td>2004-08-05</td>\n",
       "    </tr>\n",
       "    <tr>\n",
       "      <th>7</th>\n",
       "      <td>1248029</td>\n",
       "      <td>1</td>\n",
       "      <td>3.0</td>\n",
       "      <td>2004-04-22</td>\n",
       "    </tr>\n",
       "    <tr>\n",
       "      <th>8</th>\n",
       "      <td>1842128</td>\n",
       "      <td>1</td>\n",
       "      <td>4.0</td>\n",
       "      <td>2004-05-09</td>\n",
       "    </tr>\n",
       "    <tr>\n",
       "      <th>9</th>\n",
       "      <td>2238063</td>\n",
       "      <td>1</td>\n",
       "      <td>3.0</td>\n",
       "      <td>2005-05-11</td>\n",
       "    </tr>\n",
       "  </tbody>\n",
       "</table>\n",
       "</div>"
      ],
      "text/plain": [
       "   Cust_Id  Movie_Id  Rating        Date\n",
       "0  1488844         1     3.0  2005-09-06\n",
       "1   822109         1     5.0  2005-05-13\n",
       "2   885013         1     4.0  2005-10-19\n",
       "3    30878         1     4.0  2005-12-26\n",
       "4   823519         1     3.0  2004-05-03\n",
       "5   893988         1     3.0  2005-11-17\n",
       "6   124105         1     4.0  2004-08-05\n",
       "7  1248029         1     3.0  2004-04-22\n",
       "8  1842128         1     4.0  2004-05-09\n",
       "9  2238063         1     3.0  2005-05-11"
      ]
     },
     "execution_count": 5,
     "metadata": {},
     "output_type": "execute_result"
    }
   ],
   "source": [
    "df = df1.copy()\n",
    "df = df.append(df2)\n",
    "df = df.append(df3)\n",
    "df = df.append(df4)\n",
    "df.index = np.arange(0,len(df))\n",
    "df.head(10)"
   ]
  },
  {
   "cell_type": "code",
   "execution_count": 6,
   "id": "c1290e85",
   "metadata": {},
   "outputs": [
    {
     "name": "stdout",
     "output_type": "stream",
     "text": [
      "(399899, 4)\n"
     ]
    }
   ],
   "source": [
    "print(df.shape)"
   ]
  },
  {
   "cell_type": "code",
   "execution_count": 7,
   "id": "855282a1",
   "metadata": {},
   "outputs": [
    {
     "name": "stdout",
     "output_type": "stream",
     "text": [
      "Number of customers: 172421, Number of Movies: 101, Min rating: 1.0, Max rating: 5.0\n"
     ]
    }
   ],
   "source": [
    "cust_ids = df[\"Cust_Id\"].unique().tolist()\n",
    "cust2cust_encoded = {x: i for i, x in enumerate(cust_ids)}\n",
    "custencoded2cust = {i: x for i, x in enumerate(cust_ids)}\n",
    "movie_ids = df[\"Movie_Id\"].unique().tolist()\n",
    "movie2movie_encoded = {x: i for i, x in enumerate(movie_ids)}\n",
    "movie_encoded2movie = {i: x for i, x in enumerate(movie_ids)}\n",
    "df[\"customer\"] = df[\"Cust_Id\"].map(cust2cust_encoded)\n",
    "df[\"movie\"] = df[\"Movie_Id\"].map(movie2movie_encoded)\n",
    "\n",
    "num_cust = len(cust2cust_encoded)\n",
    "num_movies = len(movie_encoded2movie)\n",
    "df[\"rating\"] = df[\"Rating\"].values.astype(np.float32)\n",
    "# min and max ratings will be used to normalize the ratings later\n",
    "min_rating = min(df[\"rating\"])\n",
    "max_rating = max(df[\"rating\"])\n",
    "\n",
    "print(\n",
    "    \"Number of customers: {}, Number of Movies: {}, Min rating: {}, Max rating: {}\".format(\n",
    "        num_cust, num_movies, min_rating, max_rating\n",
    "    )\n",
    ")"
   ]
  },
  {
   "cell_type": "code",
   "execution_count": 8,
   "id": "fc041fbd",
   "metadata": {},
   "outputs": [],
   "source": [
    "df = df.sample(frac=1, random_state=42)\n",
    "x = df[[\"customer\", \"movie\"]].values\n",
    "\n",
    "# Normalize the targets between 0 and 1. Makes it easy to train.\n",
    "y = df[\"rating\"].apply(lambda x: (x - min_rating) / (max_rating - min_rating)).values\n",
    "\n",
    "# Assuming training on 90% of the data and validating on 10%.\n",
    "train_indices = int(0.9 * df.shape[0])\n",
    "x_train, x_val, y_train, y_val = (\n",
    "    x[:train_indices],\n",
    "    x[train_indices:],\n",
    "    y[:train_indices],\n",
    "    y[train_indices:],\n",
    ")"
   ]
  },
  {
   "cell_type": "code",
   "execution_count": 12,
   "id": "b10c789c",
   "metadata": {
    "scrolled": true
   },
   "outputs": [
    {
     "data": {
      "text/plain": [
       "array([[ 61454,     59],\n",
       "       [135157,     71],\n",
       "       [ 33259,     95],\n",
       "       ...,\n",
       "       [ 98835,     36],\n",
       "       [ 87612,     39],\n",
       "       [ 33931,     36]], dtype=int64)"
      ]
     },
     "execution_count": 12,
     "metadata": {},
     "output_type": "execute_result"
    }
   ],
   "source": [
    "x"
   ]
  },
  {
   "cell_type": "code",
   "execution_count": 13,
   "id": "a8f05637",
   "metadata": {},
   "outputs": [
    {
     "data": {
      "text/plain": [
       "array([0.25, 0.75, 1.  , ..., 0.75, 0.25, 0.75])"
      ]
     },
     "execution_count": 13,
     "metadata": {},
     "output_type": "execute_result"
    }
   ],
   "source": [
    "y"
   ]
  },
  {
   "cell_type": "markdown",
   "id": "985a128e",
   "metadata": {},
   "source": [
    "# Keras"
   ]
  },
  {
   "cell_type": "code",
   "execution_count": 7,
   "id": "275c101e",
   "metadata": {},
   "outputs": [
    {
     "name": "stderr",
     "output_type": "stream",
     "text": [
      "C:\\Users\\kexin_lee\\Anaconda3\\envs\\python-dscourse\\lib\\site-packages\\keras\\optimizer_v2\\adam.py:105: UserWarning: The `lr` argument is deprecated, use `learning_rate` instead.\n",
      "  super(Adam, self).__init__(name, **kwargs)\n"
     ]
    }
   ],
   "source": [
    "EMBEDDING_SIZE = 50\n",
    "\n",
    "\n",
    "class RecommenderNet(keras.Model):\n",
    "    def __init__(self, num_cust, num_movies, embedding_size, **kwargs):\n",
    "        super(RecommenderNet, self).__init__(**kwargs)\n",
    "        self.num_cust = num_cust\n",
    "        self.num_movies = num_movies\n",
    "        self.embedding_size = embedding_size\n",
    "        self.cust_embedding = layers.Embedding(\n",
    "            num_cust,\n",
    "            embedding_size,\n",
    "            embeddings_initializer=\"he_normal\",\n",
    "            embeddings_regularizer=keras.regularizers.l2(1e-6),\n",
    "        )\n",
    "        self.cust_bias = layers.Embedding(num_cust, 1)\n",
    "        \n",
    "        self.movie_embedding = layers.Embedding(\n",
    "            num_movies,\n",
    "            embedding_size,\n",
    "            embeddings_initializer=\"he_normal\",\n",
    "            embeddings_regularizer=keras.regularizers.l2(1e-6),\n",
    "        )\n",
    "        self.movie_bias = layers.Embedding(num_movies, 1)\n",
    "\n",
    "    def call(self, inputs):\n",
    "        cust_vector = self.cust_embedding(inputs[:, 0])\n",
    "        cust_bias = self.cust_bias(inputs[:, 0])\n",
    "        movie_vector = self.movie_embedding(inputs[:, 1])\n",
    "        movie_bias = self.movie_bias(inputs[:, 1])\n",
    "        dot_cust_movie = tf.tensordot(cust_vector, movie_vector, 2)\n",
    "        # Add all the components (including bias)\n",
    "        x = dot_cust_movie + cust_bias + movie_bias\n",
    "        # The sigmoid activation forces the rating to between 0 and 1\n",
    "        return tf.nn.sigmoid(x)\n",
    "\n",
    "\n",
    "model = RecommenderNet(num_cust, num_movies, EMBEDDING_SIZE)\n",
    "model.compile(\n",
    "    loss=tf.keras.losses.BinaryCrossentropy(), optimizer=keras.optimizers.Adam(lr=0.001)\n",
    ")"
   ]
  },
  {
   "cell_type": "code",
   "execution_count": 8,
   "id": "df908c0d",
   "metadata": {},
   "outputs": [
    {
     "name": "stdout",
     "output_type": "stream",
     "text": [
      "Epoch 1/10\n",
      "5624/5624 [==============================] - 339s 60ms/step - loss: 0.6498 - val_loss: 0.6478\n",
      "Epoch 2/10\n",
      "5624/5624 [==============================] - 335s 60ms/step - loss: 0.6446 - val_loss: 0.6455\n",
      "Epoch 3/10\n",
      "5624/5624 [==============================] - 347s 62ms/step - loss: 0.6341 - val_loss: 0.6422\n",
      "Epoch 4/10\n",
      "5624/5624 [==============================] - 343s 61ms/step - loss: 0.6267 - val_loss: 0.6402\n",
      "Epoch 5/10\n",
      "5624/5624 [==============================] - 347s 62ms/step - loss: 0.6211 - val_loss: 0.6392\n",
      "Epoch 6/10\n",
      "5624/5624 [==============================] - 339s 60ms/step - loss: 0.6162 - val_loss: 0.6385\n",
      "Epoch 7/10\n",
      "5624/5624 [==============================] - 340s 60ms/step - loss: 0.6120 - val_loss: 0.6381\n",
      "Epoch 8/10\n",
      "5624/5624 [==============================] - 334s 59ms/step - loss: 0.6082 - val_loss: 0.6381\n",
      "Epoch 9/10\n",
      "5624/5624 [==============================] - 344s 61ms/step - loss: 0.6049 - val_loss: 0.6380\n",
      "Epoch 10/10\n",
      "5624/5624 [==============================] - 359s 64ms/step - loss: 0.6016 - val_loss: 0.6381\n"
     ]
    }
   ],
   "source": [
    "history = model.fit(\n",
    "    x=x_train,\n",
    "    y=y_train,\n",
    "    batch_size=64,\n",
    "    epochs=10,\n",
    "    verbose=1,\n",
    "    validation_data=(x_val, y_val),\n",
    ")"
   ]
  },
  {
   "cell_type": "code",
   "execution_count": 9,
   "id": "1ba6bbc8",
   "metadata": {},
   "outputs": [
    {
     "data": {
      "image/png": "[encoded data removed]",
      "text/plain": [
       "<Figure size 432x288 with 1 Axes>"
      ]
     },
     "metadata": {
      "needs_background": "light"
     },
     "output_type": "display_data"
    }
   ],
   "source": [
    "plt.plot(history.history[\"loss\"])\n",
    "plt.plot(history.history[\"val_loss\"])\n",
    "plt.title(\"model loss\")\n",
    "plt.ylabel(\"loss\")\n",
    "plt.xlabel(\"epoch\")\n",
    "plt.legend([\"train\", \"test\"], loc=\"upper left\")\n",
    "plt.show()"
   ]
  },
  {
   "cell_type": "code",
   "execution_count": 10,
   "id": "e7aa35ed",
   "metadata": {
    "scrolled": true
   },
   "outputs": [
    {
     "name": "stdout",
     "output_type": "stream",
     "text": [
      "Model: \"recommender_net\"\n",
      "_________________________________________________________________\n",
      " Layer (type)                Output Shape              Param #   \n",
      "=================================================================\n",
      " embedding (Embedding)       multiple                  8621050   \n",
      "                                                                 \n",
      " embedding_1 (Embedding)     multiple                  172421    \n",
      "                                                                 \n",
      " embedding_2 (Embedding)     multiple                  5050      \n",
      "                                                                 \n",
      " embedding_3 (Embedding)     multiple                  101       \n",
      "                                                                 \n",
      "=================================================================\n",
      "Total params: 8,798,622\n",
      "Trainable params: 8,798,622\n",
      "Non-trainable params: 0\n",
      "_________________________________________________________________\n"
     ]
    }
   ],
   "source": [
    "model.summary()"
   ]
  },
  {
   "cell_type": "code",
   "execution_count": 25,
   "id": "60344428",
   "metadata": {},
   "outputs": [
    {
     "name": "stdout",
     "output_type": "stream",
     "text": [
      "Showing recommendations for user: 570932\n",
      "====================================\n",
      "Movies with high ratings from user\n",
      "--------------------------------\n",
      "Immortal Beloved : 1994.0\n",
      "Something's Gotta Give : 2003.0\n",
      "Breakfast at Tiffany's : 1961.0\n",
      "The Best Man : 1999.0\n",
      "If These Walls Could Talk 2 : 2000.0\n",
      "--------------------------------\n",
      "Top 10 movie recommendations\n",
      "--------------------------------\n",
      "Lord of the Rings: The Return of the King: Extended Edition: Bonus Material : 2003.0\n",
      "Inspector Morse 31: Death Is Now My Neighbour : 1997.0\n",
      "Star Trek: The Original Series: Vols. 1-15 : 1966.0\n",
      "Little House on the Prairie: Season 4 : 1977.0\n",
      "Saturday Night Live: Christmas : 1999.0\n",
      "Wire in the Blood: Justice Painted Blind : 2002.0\n",
      "Independent's Day : 1998.0\n",
      "Sailor Moon S : 1994.0\n",
      "South Park: Season 2 : 1998.0\n",
      "Stray Dog : 1949.0\n"
     ]
    }
   ],
   "source": [
    "movie_df = pd.read_csv('./data/movie_titles.csv', encoding= 'unicode_escape')\n",
    "\n",
    "# Let us get a user and see the top recommendations.\n",
    "cust_id = df.Cust_Id.sample(1).iloc[0]\n",
    "movies_watched_by_user = df[df.Cust_Id == cust_id]\n",
    "movies_not_watched = movie_df[\n",
    "    ~movie_df[\"Movie_Id\"].isin(movies_watched_by_user.Movie_Id.values)\n",
    "][\"Movie_Id\"]\n",
    "\n",
    "# make the movie not watched by the user into a list\n",
    "movies_not_watched = list(\n",
    "    set(movies_not_watched).intersection(set(movie2movie_encoded.keys()))\n",
    ")\n",
    "movies_not_watched = [[movie2movie_encoded.get(x)] for x in movies_not_watched]\n",
    "\n",
    "# encode the list\n",
    "cust_encoder = cust2cust_encoded.get(cust_id)\n",
    "cust_movie_array = np.hstack(\n",
    "    ([[cust_encoder]] * len(movies_not_watched), movies_not_watched)\n",
    ")\n",
    "\n",
    "# fit into prediction\n",
    "ratings = model.predict(cust_movie_array).flatten()\n",
    "\n",
    "# sorting\n",
    "top_ratings_indices = ratings.argsort()[-10:][::-1]\n",
    "recommended_movie_ids = [\n",
    "    movie_encoded2movie.get(movies_not_watched[x][0]) for x in top_ratings_indices\n",
    "]\n",
    "\n",
    "print(\"Showing recommendations for user: {}\".format(cust_id))\n",
    "print(\"====\" * 9)\n",
    "print(\"Movies with high ratings from user\")\n",
    "print(\"----\" * 8)\n",
    "top_movies_user = (\n",
    "    movies_watched_by_user.sort_values(by=\"rating\", ascending=False)\n",
    "    .head(5)\n",
    "    .Movie_Id.values\n",
    ")\n",
    "movie_df_rows = movie_df[movie_df[\"Movie_Id\"].isin(top_movies_user)]\n",
    "for row in movie_df_rows.itertuples():\n",
    "    print(row.title, \":\", row.year)\n",
    "\n",
    "print(\"----\" * 8)\n",
    "print(\"Top 10 movie recommendations\")\n",
    "print(\"----\" * 8)\n",
    "recommended_movies = movie_df[movie_df[\"Movie_Id\"].isin(recommended_movie_ids)]\n",
    "for row in recommended_movies.itertuples():\n",
    "    print(row.title, \":\", row.year)"
   ]
  }
 ],
 "metadata": {
  "kernelspec": {
   "display_name": "Python 3 (ipykernel)",
   "language": "python",
   "name": "python3"
  },
  "language_info": {
   "codemirror_mode": {
    "name": "ipython",
    "version": 3
   },
   "file_extension": ".py",
   "mimetype": "text/x-python",
   "name": "python",
   "nbconvert_exporter": "python",
   "pygments_lexer": "ipython3",
   "version": "3.8.12"
  }
 },
 "nbformat": 4,
 "nbformat_minor": 5
}
