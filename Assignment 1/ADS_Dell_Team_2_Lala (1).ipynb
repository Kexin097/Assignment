{
 "cells": [
  {
   "cell_type": "markdown",
   "id": "903cd88d",
   "metadata": {},
   "source": [
    "# First we make sure we install Selenium"
   ]
  },
  {
   "cell_type": "markdown",
   "id": "72294724",
   "metadata": {},
   "source": [
    "In anaconda prompt key-in the code below:\n",
    "\n",
    "pip3 install selenium"
   ]
  },
  {
   "cell_type": "markdown",
   "id": "747a9c3d",
   "metadata": {},
   "source": [
    "# Then we use selenium to open up the webpage we want to scrap by Google Chrome"
   ]
  },
  {
   "cell_type": "code",
   "execution_count": 1,
   "id": "9e4d0df0",
   "metadata": {
    "scrolled": true
   },
   "outputs": [
    {
     "name": "stderr",
     "output_type": "stream",
     "text": [
      "\n",
      "\n",
      "====== WebDriver manager ======\n",
      "Current google-chrome version is 99.0.4844\n",
      "Get LATEST chromedriver version for 99.0.4844 google-chrome\n",
      "There is no [win32] chromedriver for browser  in cache\n",
      "Trying to download new driver from https://chromedriver.storage.googleapis.com/99.0.4844.51/chromedriver_win32.zip\n",
      "Driver has been saved in cache [C:\\Users\\kexin_lee\\.wdm\\drivers\\chromedriver\\win32\\99.0.4844.51]\n",
      "C:\\Users\\KEXIN_~1\\AppData\\Local\\Temp/ipykernel_40216/2524190741.py:6: DeprecationWarning: executable_path has been deprecated, please pass in a Service object\n",
      "  driver = webdriver.Chrome(ChromeDriverManager().install())\n"
     ]
    }
   ],
   "source": [
    "from selenium import webdriver\n",
    "from webdriver_manager.chrome import ChromeDriverManager\n",
    "from selenium.webdriver.common.keys import Keys\n",
    "import time\n",
    "\n",
    "driver = webdriver.Chrome(ChromeDriverManager().install())\n",
    "driver.maximize_window()\n",
    "driver.get('https://www.worldometers.info/world-population/')\n",
    "time.sleep(1)"
   ]
  },
  {
   "cell_type": "markdown",
   "id": "e140f602",
   "metadata": {},
   "source": [
    "# Close the google ads and we ask Bot to help us direct to Asia"
   ]
  },
  {
   "cell_type": "code",
   "execution_count": 2,
   "id": "e25ee69e",
   "metadata": {
    "scrolled": false
   },
   "outputs": [
    {
     "name": "stderr",
     "output_type": "stream",
     "text": [
      "C:\\Users\\KEXIN_~1\\AppData\\Local\\Temp/ipykernel_40216/1507771717.py:1: DeprecationWarning: find_element_by_* commands are deprecated. Please use find_element() instead\n",
      "  driver.find_element_by_xpath(\"/html/body/div[1]/div/a\").click()\n",
      "C:\\Users\\KEXIN_~1\\AppData\\Local\\Temp/ipykernel_40216/1507771717.py:2: DeprecationWarning: find_element_by_* commands are deprecated. Please use find_element() instead\n",
      "  driver.find_element_by_xpath(\"/html/body/div[3]/div[4]/div/div/div[24]/div/table/tbody/tr[1]/td[2]/a\").click()\n"
     ]
    }
   ],
   "source": [
    "driver.find_element_by_xpath(\"/html/body/div[1]/div/a\").click()\n",
    "driver.find_element_by_xpath(\"/html/body/div[3]/div[4]/div/div/div[24]/div/table/tbody/tr[1]/td[2]/a\").click()"
   ]
  },
  {
   "cell_type": "markdown",
   "id": "87857568",
   "metadata": {},
   "source": [
    "# Close the google ads again and we ask Bot to help us direct to Malaysia"
   ]
  },
  {
   "cell_type": "code",
   "execution_count": 3,
   "id": "65b4358c",
   "metadata": {
    "scrolled": true
   },
   "outputs": [
    {
     "name": "stderr",
     "output_type": "stream",
     "text": [
      "C:\\Users\\KEXIN_~1\\AppData\\Local\\Temp/ipykernel_40216/535732527.py:1: DeprecationWarning: find_element_by_* commands are deprecated. Please use find_element() instead\n",
      "  driver.find_element_by_xpath(\"/html/body/div[3]/div[2]/div[2]/div/div[3]/div[1]/ul/li/ul/li[6]/a\").click()\n"
     ]
    },
    {
     "ename": "ElementClickInterceptedException",
     "evalue": "Message: element click intercepted: Element <a href=\"http://www.worldometers.info/world-population/malaysia-population/\">...</a> is not clickable at point (249, 759). Other element would receive the click: <iframe id=\"aswift_7\" name=\"aswift_7\" style=\"width: 728px !important; height: 90px !important; display: block; margin: 0px auto;\" sandbox=\"allow-forms allow-popups allow-popups-to-escape-sandbox allow-same-origin allow-scripts allow-top-navigation-by-user-activation\" width=\"728\" height=\"90\" frameborder=\"0\" marginwidth=\"0\" marginheight=\"0\" vspace=\"0\" hspace=\"0\" allowtransparency=\"true\" scrolling=\"no\" src=\"https://googleads.g.doubleclick.net/pagead/html/r20220317/r20110914/zrt_lookup.html?fsb=1#RS-0-&amp;adk=1812271801&amp;client=ca-pub-3701697624350410&amp;fa=1&amp;ifi=8&amp;uci=a!8&amp;btvi=4&amp;xpc=ToqaZdFSXR&amp;p=https%3A//www.worldometers.info\" data-google-container-id=\"a!8\" data-google-query-id=\"CKqH5oeQ2vYCFZPmcwEdobYF2g\" data-load-complete=\"true\"></iframe>\n  (Session info: chrome=99.0.4844.82)\nStacktrace:\nBacktrace:\n\tOrdinal0 [0x006A9943+2595139]\n\tOrdinal0 [0x0063C9F1+2148849]\n\tOrdinal0 [0x00534528+1066280]\n\tOrdinal0 [0x00567621+1275425]\n\tOrdinal0 [0x00565657+1267287]\n\tOrdinal0 [0x0056333B+1258299]\n\tOrdinal0 [0x0056207D+1253501]\n\tOrdinal0 [0x00557AB3+1211059]\n\tOrdinal0 [0x0057B9EC+1358316]\n\tOrdinal0 [0x00557474+1209460]\n\tOrdinal0 [0x0057BC04+1358852]\n\tOrdinal0 [0x0058BAF2+1424114]\n\tOrdinal0 [0x0057B806+1357830]\n\tOrdinal0 [0x00556086+1204358]\n\tOrdinal0 [0x00556F96+1208214]\n\tGetHandleVerifier [0x0084B232+1658114]\n\tGetHandleVerifier [0x0090312C+2411516]\n\tGetHandleVerifier [0x0073F261+560433]\n\tGetHandleVerifier [0x0073E366+556598]\n\tOrdinal0 [0x0064286B+2173035]\n\tOrdinal0 [0x006475F8+2192888]\n\tOrdinal0 [0x006476E5+2193125]\n\tOrdinal0 [0x006511FC+2232828]\n\tBaseThreadInitThunk [0x75FDFA29+25]\n\tRtlGetAppContainerNamedObjectPath [0x774A7A7E+286]\n\tRtlGetAppContainerNamedObjectPath [0x774A7A4E+238]\n",
     "output_type": "error",
     "traceback": [
      "\u001b[1;31m---------------------------------------------------------------------------\u001b[0m",
      "\u001b[1;31mElementClickInterceptedException\u001b[0m          Traceback (most recent call last)",
      "\u001b[1;32mC:\\Users\\KEXIN_~1\\AppData\\Local\\Temp/ipykernel_40216/535732527.py\u001b[0m in \u001b[0;36m<module>\u001b[1;34m\u001b[0m\n\u001b[1;32m----> 1\u001b[1;33m \u001b[0mdriver\u001b[0m\u001b[1;33m.\u001b[0m\u001b[0mfind_element_by_xpath\u001b[0m\u001b[1;33m(\u001b[0m\u001b[1;34m\"/html/body/div[3]/div[2]/div[2]/div/div[3]/div[1]/ul/li/ul/li[6]/a\"\u001b[0m\u001b[1;33m)\u001b[0m\u001b[1;33m.\u001b[0m\u001b[0mclick\u001b[0m\u001b[1;33m(\u001b[0m\u001b[1;33m)\u001b[0m\u001b[1;33m\u001b[0m\u001b[1;33m\u001b[0m\u001b[0m\n\u001b[0m\u001b[0;32m      2\u001b[0m \u001b[0mtime\u001b[0m\u001b[1;33m.\u001b[0m\u001b[0msleep\u001b[0m\u001b[1;33m(\u001b[0m\u001b[1;36m1\u001b[0m\u001b[1;33m)\u001b[0m\u001b[1;33m\u001b[0m\u001b[1;33m\u001b[0m\u001b[0m\n",
      "\u001b[1;32m~\\Anaconda3\\envs\\python-dscourse\\lib\\site-packages\\selenium\\webdriver\\remote\\webelement.py\u001b[0m in \u001b[0;36mclick\u001b[1;34m(self)\u001b[0m\n\u001b[0;32m     79\u001b[0m     \u001b[1;32mdef\u001b[0m \u001b[0mclick\u001b[0m\u001b[1;33m(\u001b[0m\u001b[0mself\u001b[0m\u001b[1;33m)\u001b[0m \u001b[1;33m->\u001b[0m \u001b[1;32mNone\u001b[0m\u001b[1;33m:\u001b[0m\u001b[1;33m\u001b[0m\u001b[1;33m\u001b[0m\u001b[0m\n\u001b[0;32m     80\u001b[0m         \u001b[1;34m\"\"\"Clicks the element.\"\"\"\u001b[0m\u001b[1;33m\u001b[0m\u001b[1;33m\u001b[0m\u001b[0m\n\u001b[1;32m---> 81\u001b[1;33m         \u001b[0mself\u001b[0m\u001b[1;33m.\u001b[0m\u001b[0m_execute\u001b[0m\u001b[1;33m(\u001b[0m\u001b[0mCommand\u001b[0m\u001b[1;33m.\u001b[0m\u001b[0mCLICK_ELEMENT\u001b[0m\u001b[1;33m)\u001b[0m\u001b[1;33m\u001b[0m\u001b[1;33m\u001b[0m\u001b[0m\n\u001b[0m\u001b[0;32m     82\u001b[0m \u001b[1;33m\u001b[0m\u001b[0m\n\u001b[0;32m     83\u001b[0m     \u001b[1;32mdef\u001b[0m \u001b[0msubmit\u001b[0m\u001b[1;33m(\u001b[0m\u001b[0mself\u001b[0m\u001b[1;33m)\u001b[0m\u001b[1;33m:\u001b[0m\u001b[1;33m\u001b[0m\u001b[1;33m\u001b[0m\u001b[0m\n",
      "\u001b[1;32m~\\Anaconda3\\envs\\python-dscourse\\lib\\site-packages\\selenium\\webdriver\\remote\\webelement.py\u001b[0m in \u001b[0;36m_execute\u001b[1;34m(self, command, params)\u001b[0m\n\u001b[0;32m    708\u001b[0m             \u001b[0mparams\u001b[0m \u001b[1;33m=\u001b[0m \u001b[1;33m{\u001b[0m\u001b[1;33m}\u001b[0m\u001b[1;33m\u001b[0m\u001b[1;33m\u001b[0m\u001b[0m\n\u001b[0;32m    709\u001b[0m         \u001b[0mparams\u001b[0m\u001b[1;33m[\u001b[0m\u001b[1;34m'id'\u001b[0m\u001b[1;33m]\u001b[0m \u001b[1;33m=\u001b[0m \u001b[0mself\u001b[0m\u001b[1;33m.\u001b[0m\u001b[0m_id\u001b[0m\u001b[1;33m\u001b[0m\u001b[1;33m\u001b[0m\u001b[0m\n\u001b[1;32m--> 710\u001b[1;33m         \u001b[1;32mreturn\u001b[0m \u001b[0mself\u001b[0m\u001b[1;33m.\u001b[0m\u001b[0m_parent\u001b[0m\u001b[1;33m.\u001b[0m\u001b[0mexecute\u001b[0m\u001b[1;33m(\u001b[0m\u001b[0mcommand\u001b[0m\u001b[1;33m,\u001b[0m \u001b[0mparams\u001b[0m\u001b[1;33m)\u001b[0m\u001b[1;33m\u001b[0m\u001b[1;33m\u001b[0m\u001b[0m\n\u001b[0m\u001b[0;32m    711\u001b[0m \u001b[1;33m\u001b[0m\u001b[0m\n\u001b[0;32m    712\u001b[0m     \u001b[1;32mdef\u001b[0m \u001b[0mfind_element\u001b[0m\u001b[1;33m(\u001b[0m\u001b[0mself\u001b[0m\u001b[1;33m,\u001b[0m \u001b[0mby\u001b[0m\u001b[1;33m=\u001b[0m\u001b[0mBy\u001b[0m\u001b[1;33m.\u001b[0m\u001b[0mID\u001b[0m\u001b[1;33m,\u001b[0m \u001b[0mvalue\u001b[0m\u001b[1;33m=\u001b[0m\u001b[1;32mNone\u001b[0m\u001b[1;33m)\u001b[0m\u001b[1;33m:\u001b[0m\u001b[1;33m\u001b[0m\u001b[1;33m\u001b[0m\u001b[0m\n",
      "\u001b[1;32m~\\Anaconda3\\envs\\python-dscourse\\lib\\site-packages\\selenium\\webdriver\\remote\\webdriver.py\u001b[0m in \u001b[0;36mexecute\u001b[1;34m(self, driver_command, params)\u001b[0m\n\u001b[0;32m    422\u001b[0m         \u001b[0mresponse\u001b[0m \u001b[1;33m=\u001b[0m \u001b[0mself\u001b[0m\u001b[1;33m.\u001b[0m\u001b[0mcommand_executor\u001b[0m\u001b[1;33m.\u001b[0m\u001b[0mexecute\u001b[0m\u001b[1;33m(\u001b[0m\u001b[0mdriver_command\u001b[0m\u001b[1;33m,\u001b[0m \u001b[0mparams\u001b[0m\u001b[1;33m)\u001b[0m\u001b[1;33m\u001b[0m\u001b[1;33m\u001b[0m\u001b[0m\n\u001b[0;32m    423\u001b[0m         \u001b[1;32mif\u001b[0m \u001b[0mresponse\u001b[0m\u001b[1;33m:\u001b[0m\u001b[1;33m\u001b[0m\u001b[1;33m\u001b[0m\u001b[0m\n\u001b[1;32m--> 424\u001b[1;33m             \u001b[0mself\u001b[0m\u001b[1;33m.\u001b[0m\u001b[0merror_handler\u001b[0m\u001b[1;33m.\u001b[0m\u001b[0mcheck_response\u001b[0m\u001b[1;33m(\u001b[0m\u001b[0mresponse\u001b[0m\u001b[1;33m)\u001b[0m\u001b[1;33m\u001b[0m\u001b[1;33m\u001b[0m\u001b[0m\n\u001b[0m\u001b[0;32m    425\u001b[0m             response['value'] = self._unwrap_value(\n\u001b[0;32m    426\u001b[0m                 response.get('value', None))\n",
      "\u001b[1;32m~\\Anaconda3\\envs\\python-dscourse\\lib\\site-packages\\selenium\\webdriver\\remote\\errorhandler.py\u001b[0m in \u001b[0;36mcheck_response\u001b[1;34m(self, response)\u001b[0m\n\u001b[0;32m    245\u001b[0m                 \u001b[0malert_text\u001b[0m \u001b[1;33m=\u001b[0m \u001b[0mvalue\u001b[0m\u001b[1;33m[\u001b[0m\u001b[1;34m'alert'\u001b[0m\u001b[1;33m]\u001b[0m\u001b[1;33m.\u001b[0m\u001b[0mget\u001b[0m\u001b[1;33m(\u001b[0m\u001b[1;34m'text'\u001b[0m\u001b[1;33m)\u001b[0m\u001b[1;33m\u001b[0m\u001b[1;33m\u001b[0m\u001b[0m\n\u001b[0;32m    246\u001b[0m             \u001b[1;32mraise\u001b[0m \u001b[0mexception_class\u001b[0m\u001b[1;33m(\u001b[0m\u001b[0mmessage\u001b[0m\u001b[1;33m,\u001b[0m \u001b[0mscreen\u001b[0m\u001b[1;33m,\u001b[0m \u001b[0mstacktrace\u001b[0m\u001b[1;33m,\u001b[0m \u001b[0malert_text\u001b[0m\u001b[1;33m)\u001b[0m  \u001b[1;31m# type: ignore[call-arg]  # mypy is not smart enough here\u001b[0m\u001b[1;33m\u001b[0m\u001b[1;33m\u001b[0m\u001b[0m\n\u001b[1;32m--> 247\u001b[1;33m         \u001b[1;32mraise\u001b[0m \u001b[0mexception_class\u001b[0m\u001b[1;33m(\u001b[0m\u001b[0mmessage\u001b[0m\u001b[1;33m,\u001b[0m \u001b[0mscreen\u001b[0m\u001b[1;33m,\u001b[0m \u001b[0mstacktrace\u001b[0m\u001b[1;33m)\u001b[0m\u001b[1;33m\u001b[0m\u001b[1;33m\u001b[0m\u001b[0m\n\u001b[0m\u001b[0;32m    248\u001b[0m \u001b[1;33m\u001b[0m\u001b[0m\n\u001b[0;32m    249\u001b[0m     \u001b[1;32mdef\u001b[0m \u001b[0m_value_or_default\u001b[0m\u001b[1;33m(\u001b[0m\u001b[0mself\u001b[0m\u001b[1;33m,\u001b[0m \u001b[0mobj\u001b[0m\u001b[1;33m:\u001b[0m \u001b[0mMapping\u001b[0m\u001b[1;33m[\u001b[0m\u001b[0m_KT\u001b[0m\u001b[1;33m,\u001b[0m \u001b[0m_VT\u001b[0m\u001b[1;33m]\u001b[0m\u001b[1;33m,\u001b[0m \u001b[0mkey\u001b[0m\u001b[1;33m:\u001b[0m \u001b[0m_KT\u001b[0m\u001b[1;33m,\u001b[0m \u001b[0mdefault\u001b[0m\u001b[1;33m:\u001b[0m \u001b[0m_VT\u001b[0m\u001b[1;33m)\u001b[0m \u001b[1;33m->\u001b[0m \u001b[0m_VT\u001b[0m\u001b[1;33m:\u001b[0m\u001b[1;33m\u001b[0m\u001b[1;33m\u001b[0m\u001b[0m\n",
      "\u001b[1;31mElementClickInterceptedException\u001b[0m: Message: element click intercepted: Element <a href=\"http://www.worldometers.info/world-population/malaysia-population/\">...</a> is not clickable at point (249, 759). Other element would receive the click: <iframe id=\"aswift_7\" name=\"aswift_7\" style=\"width: 728px !important; height: 90px !important; display: block; margin: 0px auto;\" sandbox=\"allow-forms allow-popups allow-popups-to-escape-sandbox allow-same-origin allow-scripts allow-top-navigation-by-user-activation\" width=\"728\" height=\"90\" frameborder=\"0\" marginwidth=\"0\" marginheight=\"0\" vspace=\"0\" hspace=\"0\" allowtransparency=\"true\" scrolling=\"no\" src=\"https://googleads.g.doubleclick.net/pagead/html/r20220317/r20110914/zrt_lookup.html?fsb=1#RS-0-&amp;adk=1812271801&amp;client=ca-pub-3701697624350410&amp;fa=1&amp;ifi=8&amp;uci=a!8&amp;btvi=4&amp;xpc=ToqaZdFSXR&amp;p=https%3A//www.worldometers.info\" data-google-container-id=\"a!8\" data-google-query-id=\"CKqH5oeQ2vYCFZPmcwEdobYF2g\" data-load-complete=\"true\"></iframe>\n  (Session info: chrome=99.0.4844.82)\nStacktrace:\nBacktrace:\n\tOrdinal0 [0x006A9943+2595139]\n\tOrdinal0 [0x0063C9F1+2148849]\n\tOrdinal0 [0x00534528+1066280]\n\tOrdinal0 [0x00567621+1275425]\n\tOrdinal0 [0x00565657+1267287]\n\tOrdinal0 [0x0056333B+1258299]\n\tOrdinal0 [0x0056207D+1253501]\n\tOrdinal0 [0x00557AB3+1211059]\n\tOrdinal0 [0x0057B9EC+1358316]\n\tOrdinal0 [0x00557474+1209460]\n\tOrdinal0 [0x0057BC04+1358852]\n\tOrdinal0 [0x0058BAF2+1424114]\n\tOrdinal0 [0x0057B806+1357830]\n\tOrdinal0 [0x00556086+1204358]\n\tOrdinal0 [0x00556F96+1208214]\n\tGetHandleVerifier [0x0084B232+1658114]\n\tGetHandleVerifier [0x0090312C+2411516]\n\tGetHandleVerifier [0x0073F261+560433]\n\tGetHandleVerifier [0x0073E366+556598]\n\tOrdinal0 [0x0064286B+2173035]\n\tOrdinal0 [0x006475F8+2192888]\n\tOrdinal0 [0x006476E5+2193125]\n\tOrdinal0 [0x006511FC+2232828]\n\tBaseThreadInitThunk [0x75FDFA29+25]\n\tRtlGetAppContainerNamedObjectPath [0x774A7A7E+286]\n\tRtlGetAppContainerNamedObjectPath [0x774A7A4E+238]\n"
     ]
    }
   ],
   "source": [
    "driver.find_element_by_xpath(\"/html/body/div[3]/div[2]/div[2]/div/div[3]/div[1]/ul/li/ul/li[6]/a\").click()\n",
    "time.sleep(1)"
   ]
  },
  {
   "cell_type": "markdown",
   "id": "eb987031",
   "metadata": {},
   "source": [
    "# Once we in Malaysia page, we start scraping the whole HTML"
   ]
  },
  {
   "cell_type": "code",
   "execution_count": 4,
   "id": "38aa6de5",
   "metadata": {
    "scrolled": false
   },
   "outputs": [
    {
     "ename": "NameError",
     "evalue": "name 'requests' is not defined",
     "output_type": "error",
     "traceback": [
      "\u001b[1;31m---------------------------------------------------------------------------\u001b[0m",
      "\u001b[1;31mNameError\u001b[0m                                 Traceback (most recent call last)",
      "\u001b[1;32mC:\\Users\\KEXIN_~1\\AppData\\Local\\Temp/ipykernel_40216/2702557942.py\u001b[0m in \u001b[0;36m<module>\u001b[1;34m\u001b[0m\n\u001b[0;32m      5\u001b[0m \u001b[1;33m\u001b[0m\u001b[0m\n\u001b[0;32m      6\u001b[0m \u001b[0murl\u001b[0m \u001b[1;33m=\u001b[0m \u001b[1;34m'https://www.worldometers.info/world-population/malaysia-population/'\u001b[0m\u001b[1;33m\u001b[0m\u001b[1;33m\u001b[0m\u001b[0m\n\u001b[1;32m----> 7\u001b[1;33m \u001b[0mpage\u001b[0m \u001b[1;33m=\u001b[0m \u001b[0mrequests\u001b[0m\u001b[1;33m.\u001b[0m\u001b[0mget\u001b[0m\u001b[1;33m(\u001b[0m\u001b[0murl\u001b[0m\u001b[1;33m)\u001b[0m\u001b[1;33m\u001b[0m\u001b[1;33m\u001b[0m\u001b[0m\n\u001b[0m\u001b[0;32m      8\u001b[0m \u001b[1;33m\u001b[0m\u001b[0m\n\u001b[0;32m      9\u001b[0m \u001b[0mpage\u001b[0m\u001b[1;33m.\u001b[0m\u001b[0mcontent\u001b[0m\u001b[1;33m\u001b[0m\u001b[1;33m\u001b[0m\u001b[0m\n",
      "\u001b[1;31mNameError\u001b[0m: name 'requests' is not defined"
     ]
    }
   ],
   "source": [
    "import pandas as pd\n",
    "import numpy as np\n",
    "import matplotlib.pyplot as plt\n",
    "from unicodedata import normalize\n",
    "\n",
    "url = 'https://www.worldometers.info/world-population/malaysia-population/'\n",
    "page = requests.get(url)\n",
    "\n",
    "page.content"
   ]
  },
  {
   "cell_type": "markdown",
   "id": "7786a4d7",
   "metadata": {},
   "source": [
    "# So we would like to have Main Cities by Population in Malaysia table only:"
   ]
  },
  {
   "cell_type": "code",
   "execution_count": null,
   "id": "48df4c4f",
   "metadata": {
    "scrolled": true
   },
   "outputs": [],
   "source": [
    "import requests, time\n",
    "from bs4 import BeautifulSoup\n",
    "\n",
    "url = 'https://www.worldometers.info/world-population/malaysia-population/'\n",
    "# get the webpage\n",
    "webpage = requests.get(url)\n",
    "\n",
    "# load webpage into bs4\n",
    "soup = BeautifulSoup(webpage.content, 'html.parser')\n",
    "\n",
    "data_list=[]\n",
    "# get data simply by looking for each a links\n",
    "# for tr in soup.find_all('div',attrs={'class':'table-responsive'}):\n",
    "#     for tbody in soup.find_all('div',attrs={'class':'table-responsive'}):\n",
    "#         data.append(tbody.text)\n",
    "\n",
    "# data\n",
    "\n",
    "\n",
    "rows = soup.find_all('table',attrs={'class':'table table-hover table-condensed table-list'})\n",
    "for row in rows:\n",
    "    data = row.text.split('\\n')\n",
    "    data_list.append(data)\n",
    "\n",
    "time.sleep(1)\n",
    "    \n",
    "\n",
    "data_list"
   ]
  },
  {
   "cell_type": "markdown",
   "id": "fb933b5c",
   "metadata": {},
   "source": [
    "# Try to make it to data frame"
   ]
  },
  {
   "cell_type": "code",
   "execution_count": null,
   "id": "394969db",
   "metadata": {},
   "outputs": [],
   "source": [
    "df = pd.read_html('https://www.worldometers.info/world-population/malaysia-population/')"
   ]
  },
  {
   "cell_type": "markdown",
   "id": "a818d4ba",
   "metadata": {},
   "source": [
    "# We change to another valid webpage that contain table to convert to dataframe"
   ]
  },
  {
   "cell_type": "code",
   "execution_count": null,
   "id": "25f19b53",
   "metadata": {
    "scrolled": false
   },
   "outputs": [],
   "source": [
    "import pandas as pd\n",
    "import numpy as np\n",
    "import matplotlib.pyplot as plt\n",
    "from unicodedata import normalize\n",
    "\n",
    "url = 'https://www.foxsports.com/soccer/fifa-world-cup/history'\n",
    "page = requests.get(url)\n",
    "\n",
    "print(page.content[:1000])\n",
    "print('\\n. . .\\n')\n",
    "print(page.content[-1000:])"
   ]
  },
  {
   "cell_type": "code",
   "execution_count": null,
   "id": "4deba0c9",
   "metadata": {
    "scrolled": true
   },
   "outputs": [],
   "source": [
    "df = pd.read_html('https://www.foxsports.com/soccer/fifa-world-cup/history')\n",
    "\n",
    "df[0].head(50)"
   ]
  },
  {
   "cell_type": "markdown",
   "id": "5d7667b9",
   "metadata": {},
   "source": [
    "# We export it to CSV file"
   ]
  },
  {
   "cell_type": "code",
   "execution_count": null,
   "id": "33a8edec",
   "metadata": {},
   "outputs": [],
   "source": [
    "import csv\n",
    "\n",
    "df[0].to_csv('FIFA World Cup History.csv')"
   ]
  },
  {
   "cell_type": "markdown",
   "id": "aed4d03b",
   "metadata": {},
   "source": [
    "# Visualising the data by importing the .csv we have created and plot with Python"
   ]
  },
  {
   "cell_type": "code",
   "execution_count": null,
   "id": "b34c4f90",
   "metadata": {},
   "outputs": [],
   "source": [
    "import pandas as pd\n",
    "import matplotlib.pyplot as plt\n",
    "import csv\n",
    "\n",
    "csv_file='FIFA World Cup History.csv'\n",
    "data = pd.read_csv(csv_file)\n",
    "\n",
    "# Country = data[\"Champion\"]\n",
    "# Goal = data[\"Goal Scored\"]\n",
    "\n",
    "# x = []\n",
    "# y = []\n",
    "\n",
    "# x=list(Country)\n",
    "# y=list(Goal)\n",
    "\n",
    "# with open('FIFA World Cup History.csv','r') as csvfile:\n",
    "#     plots = csv.reader(csvfile, delimiter=',')\n",
    "#     for row in plots:\n",
    "#         x.append(row[3])\n",
    "#         y.append(row[8])\n",
    "\n",
    "plt.scatter(x,y)\n",
    "plt.xlabel('Champion')\n",
    "plt.ylabel('Goal Scored')\n",
    "plt.title('Goal scored by World Cup Champion')\n",
    "plt.legend()\n",
    "plt.show()"
   ]
  },
  {
   "cell_type": "markdown",
   "id": "96b2340e",
   "metadata": {},
   "source": [
    "# Visualising by Word Cloud with the .csv we have created"
   ]
  },
  {
   "cell_type": "code",
   "execution_count": null,
   "id": "e384dc4c",
   "metadata": {},
   "outputs": [],
   "source": [
    "import matplotlib.pyplot as plt\n",
    "import csv\n",
    "import pandas as pd\n",
    "import numpy as np\n",
    "from wordcloud import WordCloud, STOPWORDS\n",
    "\n",
    "stopwords = set(STOPWORDS) #The words that will be eliminated. If None, the build-in STOPWORDS list will be used.\n",
    "data = pd.read_csv(\"FIFA World Cup History.csv\")\n",
    "\n",
    "wc = WordCloud(background_color='violet',\n",
    "                          stopwords=stopwords,\n",
    "                          max_words=200,\n",
    "                          max_font_size=40,).generate(str(data['Champion']))\n",
    "\n",
    "\n",
    "plt.axis(\"off\")\n",
    "plt.imshow(wc, interpolation=\"bilinear\")\n",
    "plt.show()"
   ]
  },
  {
   "cell_type": "markdown",
   "id": "9fe5635f",
   "metadata": {},
   "source": [
    "# We can mask the word cloud with a shape we desired"
   ]
  },
  {
   "cell_type": "code",
   "execution_count": null,
   "id": "f9f0f467",
   "metadata": {},
   "outputs": [],
   "source": [
    "from PIL import Image\n",
    "\n",
    "mask = np.array(Image.open('flag.png')) \n",
    "\n",
    "color= ImageColorGenerator(mask)\n",
    "\n",
    "wordcloud = WordCloud(width=1920,\n",
    "                      height=1080,\n",
    "                      max_words=400,\n",
    "                      mask=mask,\n",
    "                      stopwords=STOPWORDS,\n",
    "                      background_color='green',\n",
    "                      random_state=50).generate(str(data['Champion']))\n",
    "\n",
    "plt.figure(figsize=(10,10)) # inches\n",
    "plt.axis(\"off\")\n",
    "plt.imshow(wordcloud.recolor(color_func=color),interpolation='bilinear')\n",
    "plt.show()"
   ]
  },
  {
   "cell_type": "code",
   "execution_count": null,
   "id": "ebf20223",
   "metadata": {},
   "outputs": [],
   "source": []
  }
 ],
 "metadata": {
  "kernelspec": {
   "display_name": "Python 3 (ipykernel)",
   "language": "python",
   "name": "python3"
  },
  "language_info": {
   "codemirror_mode": {
    "name": "ipython",
    "version": 3
   },
   "file_extension": ".py",
   "mimetype": "text/x-python",
   "name": "python",
   "nbconvert_exporter": "python",
   "pygments_lexer": "ipython3",
   "version": "3.8.12"
  }
 },
 "nbformat": 4,
 "nbformat_minor": 5
}
