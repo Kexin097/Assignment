{
 "cells": [
  {
   "cell_type": "markdown",
   "id": "903cd88d",
   "metadata": {},
   "source": [
    "# First we make sure we install Selenium"
   ]
  },
  {
   "cell_type": "markdown",
   "id": "72294724",
   "metadata": {},
   "source": [
    "In anaconda prompt key-in the code below:\n",
    "\n",
    "pip3 install selenium"
   ]
  },
  {
   "cell_type": "markdown",
   "id": "747a9c3d",
   "metadata": {},
   "source": [
    "# Then we use selenium to open up the webpage we want to scrap by Google Chrome"
   ]
  },
  {
   "cell_type": "code",
   "execution_count": null,
   "id": "9e4d0df0",
   "metadata": {
    "scrolled": true
   },
   "outputs": [],
   "source": [
    "from selenium import webdriver\n",
    "from webdriver_manager.chrome import ChromeDriverManager\n",
    "from selenium.webdriver.common.keys import Keys\n",
    "import time\n",
    "\n",
    "driver = webdriver.Chrome(ChromeDriverManager().install())\n",
    "driver.maximize_window()\n",
    "driver.get('https://www.worldometers.info/world-population/')\n",
    "time.sleep(1)"
   ]
  },
  {
   "cell_type": "markdown",
   "id": "e140f602",
   "metadata": {},
   "source": [
    "# Close the google ads and we ask Bot to help us direct to Asia"
   ]
  },
  {
   "cell_type": "code",
   "execution_count": null,
   "id": "e25ee69e",
   "metadata": {
    "scrolled": false
   },
   "outputs": [],
   "source": [
    "driver.find_element_by_xpath(\"/html/body/div[1]/div/a\").click()\n",
    "driver.find_element_by_xpath(\"/html/body/div[3]/div[4]/div/div/div[24]/div/table/tbody/tr[1]/td[2]/a\").click()"
   ]
  },
  {
   "cell_type": "markdown",
   "id": "87857568",
   "metadata": {},
   "source": [
    "# Close the google ads again and we ask Bot to help us direct to Malaysia"
   ]
  },
  {
   "cell_type": "code",
   "execution_count": null,
   "id": "65b4358c",
   "metadata": {
    "scrolled": true
   },
   "outputs": [],
   "source": [
    "driver.find_element_by_xpath(\"/html/body/div[3]/div[2]/div[2]/div/div[3]/div[1]/ul/li/ul/li[6]/a\").click()\n",
    "time.sleep(1)"
   ]
  },
  {
   "cell_type": "markdown",
   "id": "eb987031",
   "metadata": {},
   "source": [
    "# Once we in Malaysia page, we start scraping the whole HTML"
   ]
  },
  {
   "cell_type": "code",
   "execution_count": null,
   "id": "38aa6de5",
   "metadata": {
    "scrolled": false
   },
   "outputs": [],
   "source": [
    "import pandas as pd\n",
    "import numpy as np\n",
    "import matplotlib.pyplot as plt\n",
    "from unicodedata import normalize\n",
    "\n",
    "url = 'https://www.worldometers.info/world-population/malaysia-population/'\n",
    "page = requests.get(url)\n",
    "\n",
    "page.content"
   ]
  },
  {
   "cell_type": "markdown",
   "id": "7786a4d7",
   "metadata": {},
   "source": [
    "# So we would like to have Main Cities by Population in Malaysia table only:"
   ]
  },
  {
   "cell_type": "code",
   "execution_count": null,
   "id": "48df4c4f",
   "metadata": {
    "scrolled": true
   },
   "outputs": [],
   "source": [
    "import requests, time\n",
    "from bs4 import BeautifulSoup\n",
    "\n",
    "url = 'https://www.worldometers.info/world-population/malaysia-population/'\n",
    "# get the webpage\n",
    "webpage = requests.get(url)\n",
    "\n",
    "# load webpage into bs4\n",
    "soup = BeautifulSoup(webpage.content, 'html.parser')\n",
    "\n",
    "data_list=[]\n",
    "# get data simply by looking for each a links\n",
    "# for tr in soup.find_all('div',attrs={'class':'table-responsive'}):\n",
    "#     for tbody in soup.find_all('div',attrs={'class':'table-responsive'}):\n",
    "#         data.append(tbody.text)\n",
    "\n",
    "# data\n",
    "\n",
    "\n",
    "rows = soup.find_all('table',attrs={'class':'table table-hover table-condensed table-list'})\n",
    "for row in rows:\n",
    "    data = row.text.split('\\n')\n",
    "    data_list.append(data)\n",
    "\n",
    "time.sleep(1)\n",
    "    \n",
    "\n",
    "data_list"
   ]
  },
  {
   "cell_type": "markdown",
   "id": "fb933b5c",
   "metadata": {},
   "source": [
    "# Try to make it to data frame"
   ]
  },
  {
   "cell_type": "code",
   "execution_count": null,
   "id": "394969db",
   "metadata": {},
   "outputs": [],
   "source": [
    "df = pd.read_html('https://www.worldometers.info/world-population/malaysia-population/')"
   ]
  },
  {
   "cell_type": "markdown",
   "id": "a818d4ba",
   "metadata": {},
   "source": [
    "# We change to another valid webpage that contain table to convert to dataframe"
   ]
  },
  {
   "cell_type": "code",
   "execution_count": null,
   "id": "25f19b53",
   "metadata": {
    "scrolled": false
   },
   "outputs": [],
   "source": [
    "import pandas as pd\n",
    "import numpy as np\n",
    "import matplotlib.pyplot as plt\n",
    "from unicodedata import normalize\n",
    "\n",
    "url = 'https://www.foxsports.com/soccer/fifa-world-cup/history'\n",
    "page = requests.get(url)\n",
    "\n",
    "print(page.content[:1000])\n",
    "print('\\n. . .\\n')\n",
    "print(page.content[-1000:])"
   ]
  },
  {
   "cell_type": "code",
   "execution_count": null,
   "id": "4deba0c9",
   "metadata": {
    "scrolled": true
   },
   "outputs": [],
   "source": [
    "df = pd.read_html('https://www.foxsports.com/soccer/fifa-world-cup/history')\n",
    "\n",
    "df[0].head(50)"
   ]
  },
  {
   "cell_type": "markdown",
   "id": "5d7667b9",
   "metadata": {},
   "source": [
    "# We export it to CSV file"
   ]
  },
  {
   "cell_type": "code",
   "execution_count": null,
   "id": "33a8edec",
   "metadata": {},
   "outputs": [],
   "source": [
    "import csv\n",
    "\n",
    "df[0].to_csv('FIFA World Cup History.csv')"
   ]
  },
  {
   "cell_type": "markdown",
   "id": "aed4d03b",
   "metadata": {},
   "source": [
    "# Visualising the data by importing the .csv we have created and plot with Python"
   ]
  },
  {
   "cell_type": "code",
   "execution_count": null,
   "id": "b34c4f90",
   "metadata": {},
   "outputs": [],
   "source": [
    "import pandas as pd\n",
    "import matplotlib.pyplot as plt\n",
    "import csv\n",
    "\n",
    "csv_file='FIFA World Cup History.csv'\n",
    "data = pd.read_csv(csv_file)\n",
    "\n",
    "# Country = data[\"Champion\"]\n",
    "# Goal = data[\"Goal Scored\"]\n",
    "\n",
    "# x = []\n",
    "# y = []\n",
    "\n",
    "# x=list(Country)\n",
    "# y=list(Goal)\n",
    "\n",
    "# with open('FIFA World Cup History.csv','r') as csvfile:\n",
    "#     plots = csv.reader(csvfile, delimiter=',')\n",
    "#     for row in plots:\n",
    "#         x.append(row[3])\n",
    "#         y.append(row[8])\n",
    "\n",
    "plt.scatter(x,y)\n",
    "plt.xlabel('Champion')\n",
    "plt.ylabel('Goal Scored')\n",
    "plt.title('Goal scored by World Cup Champion')\n",
    "plt.legend()\n",
    "plt.show()"
   ]
  },
  {
   "cell_type": "markdown",
   "id": "96b2340e",
   "metadata": {},
   "source": [
    "# Visualising by Word Cloud with the .csv we have created"
   ]
  },
  {
   "cell_type": "code",
   "execution_count": null,
   "id": "e384dc4c",
   "metadata": {},
   "outputs": [],
   "source": [
    "import matplotlib.pyplot as plt\n",
    "import csv\n",
    "import pandas as pd\n",
    "import numpy as np\n",
    "from wordcloud import WordCloud, STOPWORDS\n",
    "\n",
    "stopwords = set(STOPWORDS) #The words that will be eliminated. If None, the build-in STOPWORDS list will be used.\n",
    "data = pd.read_csv(\"FIFA World Cup History.csv\")\n",
    "\n",
    "wc = WordCloud(background_color='violet',\n",
    "                          stopwords=stopwords,\n",
    "                          max_words=200,\n",
    "                          max_font_size=40,).generate(str(data['Champion']))\n",
    "\n",
    "\n",
    "plt.axis(\"off\")\n",
    "plt.imshow(wc, interpolation=\"bilinear\")\n",
    "plt.show()"
   ]
  },
  {
   "cell_type": "markdown",
   "id": "9fe5635f",
   "metadata": {},
   "source": [
    "# We can mask the word cloud with a shape we desired"
   ]
  },
  {
   "cell_type": "code",
   "execution_count": null,
   "id": "f9f0f467",
   "metadata": {},
   "outputs": [],
   "source": [
    "from PIL import Image\n",
    "\n",
    "mask = np.array(Image.open('flag.png')) \n",
    "\n",
    "color= ImageColorGenerator(mask)\n",
    "\n",
    "wordcloud = WordCloud(width=1920,\n",
    "                      height=1080,\n",
    "                      max_words=400,\n",
    "                      mask=mask,\n",
    "                      stopwords=STOPWORDS,\n",
    "                      background_color='green',\n",
    "                      random_state=50).generate(str(data['Champion']))\n",
    "\n",
    "plt.figure(figsize=(10,10)) # inches\n",
    "plt.axis(\"off\")\n",
    "plt.imshow(wordcloud.recolor(color_func=color),interpolation='bilinear')\n",
    "plt.show()"
   ]
  },
  {
   "cell_type": "code",
   "execution_count": null,
   "id": "ebf20223",
   "metadata": {},
   "outputs": [],
   "source": []
  }
 ],
 "metadata": {
  "kernelspec": {
   "display_name": "Python 3 (ipykernel)",
   "language": "python",
   "name": "python3"
  },
  "language_info": {
   "codemirror_mode": {
    "name": "ipython",
    "version": 3
   },
   "file_extension": ".py",
   "mimetype": "text/x-python",
   "name": "python",
   "nbconvert_exporter": "python",
   "pygments_lexer": "ipython3",
   "version": "3.8.12"
  }
 },
 "nbformat": 4,
 "nbformat_minor": 5
}
